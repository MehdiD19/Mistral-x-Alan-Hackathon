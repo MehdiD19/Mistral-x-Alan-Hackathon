{
 "cells": [
  {
   "cell_type": "code",
   "execution_count": 24,
   "metadata": {},
   "outputs": [],
   "source": [
    "import pandas as pd\n",
    "\n",
    "\n",
    "# Read the CSV file\n",
    "df = pd.read_csv('answers.csv')\n",
    "\n",
    "# Remove everything after .\\n in the 'answer' column\n",
    "df['answer'] = df['answer'].str.split(r'\\.\\n').str[0]\n",
    "df['answer'] = df['answer'].str.split('2').str[0]\n",
    "df['answer'] = df['answer'].str.findall(r'[A-E]').str.join(',')\n",
    "df['id'] = range(len(df))\n",
    "df = df[['id', 'answer']]\n",
    "\n",
    "df.to_csv('answers_ML_11.csv', index=False)"
   ]
  }
 ],
 "metadata": {
  "kernelspec": {
   "display_name": "Python 3",
   "language": "python",
   "name": "python3"
  },
  "language_info": {
   "codemirror_mode": {
    "name": "ipython",
    "version": 3
   },
   "file_extension": ".py",
   "mimetype": "text/x-python",
   "name": "python",
   "nbconvert_exporter": "python",
   "pygments_lexer": "ipython3",
   "version": "3.11.9"
  }
 },
 "nbformat": 4,
 "nbformat_minor": 2
}
